{
  "nbformat": 4,
  "nbformat_minor": 0,
  "metadata": {
    "colab": {
      "name": "Copy of Huffman code.ipynb",
      "provenance": [],
      "collapsed_sections": [],
      "authorship_tag": "ABX9TyMU/pyrnS7RbKSXOD5PtBYe",
      "include_colab_link": true
    },
    "kernelspec": {
      "name": "python3",
      "display_name": "Python 3"
    },
    "language_info": {
      "name": "python"
    }
  },
  "cells": [
    {
      "cell_type": "markdown",
      "metadata": {
        "id": "view-in-github",
        "colab_type": "text"
      },
      "source": [
        "<a href=\"https://colab.research.google.com/gist/nadavo11/99d776caccb6f1419db87e02d311a379/copy-of-hufman-code.ipynb\" target=\"_parent\"><img src=\"https://colab.research.google.com/assets/colab-badge.svg\" alt=\"Open In Colab\"/></a>"
      ]
    },
    {
      "cell_type": "code",
      "execution_count": null,
      "metadata": {
        "id": "bUAgJkAKkCcg"
      },
      "outputs": [],
      "source": [
        ""
      ]
    },
    {
      "cell_type": "markdown",
      "source": [
        ""
      ],
      "metadata": {
        "id": "ms5Bl8w7Ibpy"
      }
    },
    {
      "cell_type": "code",
      "source": [
        "import numpy as np\n",
        "import matplotlib.pyplot as plt\n",
        "import random\n",
        "from collections import Counter\n",
        "from operator import itemgetter"
      ],
      "metadata": {
        "id": "ECxwzBMujeic"
      },
      "execution_count": null,
      "outputs": []
    },
    {
      "cell_type": "markdown",
      "source": [
        "# let us generate arr, a random string of 10,000 letter length with a specific distribution alphabet of size D = 2 of the following probability mass function:\n",
        "\n",
        "\\begin{align}\n",
        "       p= \\left(\\frac{1}{2} ,\\frac{1}{4},\\frac{1}{4},\\frac{1}{16},\\frac{1}{16},\\frac{1}{16},\\frac{1}{16}\\right) .\n",
        "    \\end{align}"
      ],
      "metadata": {
        "id": "xY5-0jqUkdj2"
      }
    },
    {
      "cell_type": "code",
      "source": [
        "arr = np.random.rand(10000)\n",
        "def map(x):\n",
        "    if 0<=x<(1/2): return 0        #A\n",
        "    if (1/2)<=x<(5/8): return 1    #B\n",
        "    if (5/8)<=x<(6/8): return 2    #C\n",
        "    if (6/8)<=x<(13/16): return 3    #D\n",
        "    if (13/16)<=x<(14/16): return 4    #E\n",
        "    if (14/16)<=x<(15/16): return 5    #F\n",
        "    if (15/16)<=x<(1): return 6    #G\n",
        "arr = np.array([map(i) for i in arr])"
      ],
      "metadata": {
        "id": "x50Pq3clkeC0"
      },
      "execution_count": null,
      "outputs": []
    },
    {
      "cell_type": "code",
      "source": [
        ""
      ],
      "metadata": {
        "id": "Cpo1e9WYsM4K"
      },
      "execution_count": null,
      "outputs": []
    },
    {
      "cell_type": "markdown",
      "source": [
        "we would want to see for each letter $x$ if the counted occurance in ```arr``` corrsponds to $p(x)$\n",
        "\n",
        "---\n",
        "\n",
        "\n",
        "\n",
        "\n"
      ],
      "metadata": {
        "id": "bpC9CQh7kER-"
      }
    },
    {
      "cell_type": "code",
      "source": [
        "\n",
        "c = Counter(arr)\n",
        "mylabels = [\"A\", \"B\", \"C\", \"D\",\"E\",\"F\", \"G\"]\n",
        "myexplode = [0, 0.2, 0, 0, 0, 0, 0]\n",
        "\n",
        "sorted(c.items(),key=itemgetter(0))\n",
        "\n",
        "C = np.array(list(dict(sorted(c.items())).values()))\n",
        "print(c)\n",
        "print(C)\n",
        "\n",
        "plt.pie(C,labels = mylabels, explode = myexplode, autopct='%1.1f%%')\n",
        "plt.show()\n"
      ],
      "metadata": {
        "colab": {
          "base_uri": "https://localhost:8080/",
          "height": 284
        },
        "outputId": "8dae8738-ceef-4c68-cf65-ece9a89010f1",
        "id": "QnrAIiE8sfr3"
      },
      "execution_count": null,
      "outputs": [
        {
          "output_type": "stream",
          "name": "stdout",
          "text": [
            "Counter({0: 4952, 1: 1293, 2: 1280, 4: 677, 3: 636, 5: 599, 6: 563})\n",
            "[4952 1293 1280  636  677  599  563]\n"
          ]
        },
        {
          "output_type": "display_data",
          "data": {
            "text/plain": [
              "<Figure size 432x288 with 1 Axes>"
            ],
            "image/png": "[encoded data removed]"
          },
          "metadata": {}
        }
      ]
    },
    {
      "cell_type": "markdown",
      "source": [
        "## **encoding the message with binary value**\n",
        "\n",
        "let us try assigning each letter its numbers' binary value:\n",
        "*   A - 000\n",
        "*   B - 001\n",
        "*   C - 010\n",
        "*   D - 011\n",
        "*   E - 100\n",
        "*   F - 101\n",
        "*   G - 110\n",
        "\n",
        "we will plot the frequancy of ones and zeros, and print the total length of the compressed messege"
      ],
      "metadata": {
        "id": "PAX3gmTJt3wC"
      }
    },
    {
      "cell_type": "code",
      "source": [
        "st = ''\n",
        "for i in arr:\n",
        "    code = ''          #transform to bin\n",
        "    d = {0:'000',1:\"001\",2:\"010\",3:\"011\",4:\"100\",5:\"101\",6:\"110\"}\n",
        "    #zeros+= max(0,code.find(\"0\"))\n",
        "    #ones += max(0,code.find(\"1\"))\n",
        "    st= st + d[i]\n",
        "\n",
        "\n",
        "zeros = st.count('0')\n",
        "ones = st.count('1')\n",
        "print(\"Total lengthof the compressed file: \",zeros+ones)\n",
        "#create Chart\n",
        "fig = plt.figure(figsize=(6, 5))\n",
        "\n",
        "# creating the bar plot\n",
        "plt.bar([\"0\",\"1\"],[zeros,ones] , color='maroon',\n",
        "        width=0.6)\n",
        "\n",
        "plt.xlabel(\"digit\")\n",
        "plt.ylabel(\"No. of occurences\")\n",
        "plt.title(\"encoded messege\")\n",
        "plt.show()\n",
        "\n",
        "##########################"
      ],
      "metadata": {
        "colab": {
          "base_uri": "https://localhost:8080/",
          "height": 368
        },
        "id": "0lh4RjyjuDSY",
        "outputId": "e2cbdcf6-1740-44ad-d5cb-6ebea7ac7e1d"
      },
      "execution_count": null,
      "outputs": [
        {
          "output_type": "stream",
          "name": "stdout",
          "text": [
            "length:  30000\n"
          ]
        },
        {
          "output_type": "display_data",
          "data": {
            "text/plain": [
              "<Figure size 432x360 with 1 Axes>"
            ],
            "image/png": "[encoded data removed]"
          },
          "metadata": {
            "needs_background": "light"
          }
        }
      ]
    },
    {
      "cell_type": "markdown",
      "source": [
        "here frequancies of ones and zeros are way out of balance, and the total messege length is 30,000, average of 3 per symbol, which is quite a lot: notice that the enthropy  is much smaller:\n",
        "\n",
        "$H(X) = -\\sum_{i=1}^n p(x)log(p(x))$\n",
        "\n",
        "$   =-\\frac{1}{2} log(\\frac{1}{2}) - 2⋅\\frac{1}{8} log(\\frac{1}{8})-4̇⋅\\frac{1}{16} log(\\frac{1}{16}) $\n",
        "\n",
        "$ = \\frac{1}{2}+\\frac{3}{4}+1 $\n",
        "\n",
        "$= 2\\frac{1}{4}$\n",
        "\n",
        " that is because this encoding scheme is suboptimal, which leads us to another solution:"
      ],
      "metadata": {
        "id": "reehDc40-a0X"
      }
    },
    {
      "cell_type": "markdown",
      "source": [
        ""
      ],
      "metadata": {
        "id": "icbgPBmPFrvQ"
      }
    },
    {
      "cell_type": "markdown",
      "source": [
        "## **encoding the message with Hoffman Coding**\n",
        "\n",
        "let us try to assign a Huffman code to the alphabeth:\n",
        "*   A - 0\n",
        "*   B - 100\n",
        "*   C - 101\n",
        "*   D - 1100\n",
        "*   E - 1101\n",
        "*   F - 1110\n",
        "*   G - 1111\n",
        "\n",
        "we will, again, plot the frequancy of ones and zeros, and print the total length of the compressed messege."
      ],
      "metadata": {
        "id": "z7Q3rbkawjlg"
      }
    },
    {
      "cell_type": "code",
      "source": [
        "st = ''\n",
        "for i in arr:\n",
        "    code = ''          #transform to bin\n",
        "    d = {0:'0',1:\"100\",2:\"101\",3:\"1100\",4:\"1101\",5:\"1110\",6:\"1111\"}\n",
        "    #zeros+= max(0,code.find(\"0\"))\n",
        "    #ones += max(0,code.find(\"1\"))\n",
        "    st= st + d[i]\n",
        "\n",
        "\n",
        "zeros = st.count('0')\n",
        "ones = st.count('1')\n",
        "print(\"Total lengthof the compressed file: \",zeros+ones)\n",
        "#create Chart\n",
        "fig = plt.figure(figsize=(6, 5))\n",
        "\n",
        "# creating the bar plot\n",
        "plt.bar([\"0\",\"1\"],[zeros,ones] , color='maroon',\n",
        "        width=0.6)\n",
        "\n",
        "plt.xlabel(\"digit\")\n",
        "plt.ylabel(\"No. of occurences\")\n",
        "plt.title(\"encoded message\")\n",
        "plt.show()\n",
        "\n",
        "##########################"
      ],
      "metadata": {
        "colab": {
          "base_uri": "https://localhost:8080/",
          "height": 368
        },
        "id": "X9BqJFESw22_",
        "outputId": "7f59d396-2262-4614-dd93-9fe73c7fba60"
      },
      "execution_count": null,
      "outputs": [
        {
          "output_type": "stream",
          "name": "stdout",
          "text": [
            "length:  22571\n"
          ]
        },
        {
          "output_type": "display_data",
          "data": {
            "text/plain": [
              "<Figure size 432x360 with 1 Axes>"
            ],
            "image/png": "[encoded data removed]"
          },
          "metadata": {
            "needs_background": "light"
          }
        }
      ]
    },
    {
      "cell_type": "markdown",
      "source": [
        "we see in this resault: the ones and zeros are evenly distributed, which is expected in an optimally encoded message, and also,the length of the compressed message is way smaller. what makes the huffman cpde a perfect encoding scheme in this case is that $E(l(X))=H(X)$\n",
        "\n",
        "and in fact, we see that the enthropy we measured approximately matches the average symbol length. this is because the probability distribution function is as such that every robabillity is a power of 2."
      ],
      "metadata": {
        "id": "ZumFADq6Fs98"
      }
    }
  ]
}
